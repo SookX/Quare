{
 "cells": [
  {
   "cell_type": "code",
   "execution_count": 1,
   "metadata": {},
   "outputs": [],
   "source": [
    "import numpy as np\n",
    "import pandas as pd\n",
    "from sklearn.model_selection import train_test_split\n",
    "from sklearn.naive_bayes import CategoricalNB\n",
    "from sklearn.preprocessing import LabelEncoder\n",
    "from gensim.models import KeyedVectors\n",
    "import tensorflow as tf\n",
    "\n",
    "import os"
   ]
  },
  {
   "cell_type": "code",
   "execution_count": 2,
   "metadata": {},
   "outputs": [
    {
     "name": "stderr",
     "output_type": "stream",
     "text": [
      "C:\\Users\\Vasil\\AppData\\Local\\Temp\\ipykernel_12040\\5165109.py:7: FutureWarning: Series.__getitem__ treating keys as positions is deprecated. In a future version, integer keys will always be treated as labels (consistent with DataFrame behavior). To access a value by position, use `ser.iloc[pos]`\n",
      "  symptom = str(row[i])\n"
     ]
    }
   ],
   "source": [
    "df = pd.read_csv('./dist/archive/dataset.csv')\n",
    "df = df.fillna(\" \")\n",
    "df['Symptom']=\"\"\n",
    "for index, row in df.iterrows():\n",
    "    symptoms = []\n",
    "    for i in range(1, 18):  \n",
    "        symptom = str(row[i]) \n",
    "        symptom = symptom.replace('_', ' ') \n",
    "        symptoms.append(symptom) \n",
    "    df.at[index, 'Symptom'] = ''.join(symptoms)  \n",
    "\n",
    "for i in range(1, 18):\n",
    "    df = df.drop(f\"Symptom_{i}\", axis = 1)\n",
    "\n",
    "pretrained_model_path  = \"./dist/glove.6B.300d/glove.6B.300d.txt\"  \n",
    "embeddings = KeyedVectors.load_word2vec_format(pretrained_model_path, binary=False, no_header=True)"
   ]
  },
  {
   "cell_type": "code",
   "execution_count": 3,
   "metadata": {},
   "outputs": [
    {
     "data": {
      "text/plain": [
       "<gensim.models.keyedvectors.KeyedVectors at 0x222529b70b0>"
      ]
     },
     "execution_count": 3,
     "metadata": {},
     "output_type": "execute_result"
    }
   ],
   "source": [
    "embeddings"
   ]
  },
  {
   "cell_type": "code",
   "execution_count": 4,
   "metadata": {},
   "outputs": [],
   "source": [
    "def get_symptom_vector(tokens, embeddings, dim=300):\n",
    "    vectors = [embeddings[word] for word in tokens if word in embeddings]\n",
    "    if len(vectors) > 0:\n",
    "        return np.mean(vectors, axis=0)  \n",
    "    else:\n",
    "        return np.zeros(dim)"
   ]
  },
  {
   "cell_type": "code",
   "execution_count": 5,
   "metadata": {},
   "outputs": [],
   "source": [
    "df['Symptom_tokens'] = df['Symptom'].apply(lambda x: x.split())\n",
    "df['Symptom_vector'] = df['Symptom_tokens'].apply(lambda x: get_symptom_vector(x, embeddings))"
   ]
  },
  {
   "cell_type": "code",
   "execution_count": 6,
   "metadata": {},
   "outputs": [
    {
     "data": {
      "text/html": [
       "<div>\n",
       "<style scoped>\n",
       "    .dataframe tbody tr th:only-of-type {\n",
       "        vertical-align: middle;\n",
       "    }\n",
       "\n",
       "    .dataframe tbody tr th {\n",
       "        vertical-align: top;\n",
       "    }\n",
       "\n",
       "    .dataframe thead th {\n",
       "        text-align: right;\n",
       "    }\n",
       "</style>\n",
       "<table border=\"1\" class=\"dataframe\">\n",
       "  <thead>\n",
       "    <tr style=\"text-align: right;\">\n",
       "      <th></th>\n",
       "      <th>Disease</th>\n",
       "      <th>Symptom</th>\n",
       "      <th>Symptom_tokens</th>\n",
       "      <th>Symptom_vector</th>\n",
       "    </tr>\n",
       "  </thead>\n",
       "  <tbody>\n",
       "    <tr>\n",
       "      <th>0</th>\n",
       "      <td>Fungal infection</td>\n",
       "      <td>itching skin rash nodal skin eruptions dischro...</td>\n",
       "      <td>[itching, skin, rash, nodal, skin, eruptions, ...</td>\n",
       "      <td>[0.2070357, 0.01904114, -0.0055758613, -0.1377...</td>\n",
       "    </tr>\n",
       "    <tr>\n",
       "      <th>1</th>\n",
       "      <td>Fungal infection</td>\n",
       "      <td>skin rash nodal skin eruptions dischromic  pa...</td>\n",
       "      <td>[skin, rash, nodal, skin, eruptions, dischromi...</td>\n",
       "      <td>[0.24659766, -0.0013919994, -0.010601004, -0.1...</td>\n",
       "    </tr>\n",
       "    <tr>\n",
       "      <th>2</th>\n",
       "      <td>Fungal infection</td>\n",
       "      <td>itching nodal skin eruptions dischromic  patch...</td>\n",
       "      <td>[itching, nodal, skin, eruptions, dischromic, ...</td>\n",
       "      <td>[0.07035, 0.08717581, -0.028830606, -0.0361490...</td>\n",
       "    </tr>\n",
       "    <tr>\n",
       "      <th>3</th>\n",
       "      <td>Fungal infection</td>\n",
       "      <td>itching skin rash dischromic  patches         ...</td>\n",
       "      <td>[itching, skin, rash, dischromic, patches]</td>\n",
       "      <td>[0.178511, -0.07981275, -0.05286075, -0.213686...</td>\n",
       "    </tr>\n",
       "    <tr>\n",
       "      <th>4</th>\n",
       "      <td>Fungal infection</td>\n",
       "      <td>itching skin rash nodal skin eruptions        ...</td>\n",
       "      <td>[itching, skin, rash, nodal, skin, eruptions]</td>\n",
       "      <td>[0.30039498, 0.048597995, 0.050351497, -0.1581...</td>\n",
       "    </tr>\n",
       "    <tr>\n",
       "      <th>...</th>\n",
       "      <td>...</td>\n",
       "      <td>...</td>\n",
       "      <td>...</td>\n",
       "      <td>...</td>\n",
       "    </tr>\n",
       "    <tr>\n",
       "      <th>4915</th>\n",
       "      <td>(vertigo) Paroymsal  Positional Vertigo</td>\n",
       "      <td>vomiting headache nausea spinning movements l...</td>\n",
       "      <td>[vomiting, headache, nausea, spinning, movemen...</td>\n",
       "      <td>[0.11061343, 0.17821288, 0.11190355, -0.191091...</td>\n",
       "    </tr>\n",
       "    <tr>\n",
       "      <th>4916</th>\n",
       "      <td>Acne</td>\n",
       "      <td>skin rash pus filled pimples blackheads scurr...</td>\n",
       "      <td>[skin, rash, pus, filled, pimples, blackheads,...</td>\n",
       "      <td>[0.097137995, -0.1723305, -0.039824996, -0.223...</td>\n",
       "    </tr>\n",
       "    <tr>\n",
       "      <th>4917</th>\n",
       "      <td>Urinary tract infection</td>\n",
       "      <td>burning micturition bladder discomfort foul s...</td>\n",
       "      <td>[burning, micturition, bladder, discomfort, fo...</td>\n",
       "      <td>[0.05448175, 0.15117364, 0.23599534, -0.430794...</td>\n",
       "    </tr>\n",
       "    <tr>\n",
       "      <th>4918</th>\n",
       "      <td>Psoriasis</td>\n",
       "      <td>skin rash joint pain skin peeling silver like...</td>\n",
       "      <td>[skin, rash, joint, pain, skin, peeling, silve...</td>\n",
       "      <td>[0.059871808, 0.053128403, -0.13207932, -0.143...</td>\n",
       "    </tr>\n",
       "    <tr>\n",
       "      <th>4919</th>\n",
       "      <td>Impetigo</td>\n",
       "      <td>skin rash high fever blister red sore around ...</td>\n",
       "      <td>[skin, rash, high, fever, blister, red, sore, ...</td>\n",
       "      <td>[0.06586008, 0.101807125, 0.056729417, -0.2429...</td>\n",
       "    </tr>\n",
       "  </tbody>\n",
       "</table>\n",
       "<p>4920 rows × 4 columns</p>\n",
       "</div>"
      ],
      "text/plain": [
       "                                      Disease  \\\n",
       "0                            Fungal infection   \n",
       "1                            Fungal infection   \n",
       "2                            Fungal infection   \n",
       "3                            Fungal infection   \n",
       "4                            Fungal infection   \n",
       "...                                       ...   \n",
       "4915  (vertigo) Paroymsal  Positional Vertigo   \n",
       "4916                                     Acne   \n",
       "4917                  Urinary tract infection   \n",
       "4918                                Psoriasis   \n",
       "4919                                 Impetigo   \n",
       "\n",
       "                                                Symptom  \\\n",
       "0     itching skin rash nodal skin eruptions dischro...   \n",
       "1      skin rash nodal skin eruptions dischromic  pa...   \n",
       "2     itching nodal skin eruptions dischromic  patch...   \n",
       "3     itching skin rash dischromic  patches         ...   \n",
       "4     itching skin rash nodal skin eruptions        ...   \n",
       "...                                                 ...   \n",
       "4915   vomiting headache nausea spinning movements l...   \n",
       "4916   skin rash pus filled pimples blackheads scurr...   \n",
       "4917   burning micturition bladder discomfort foul s...   \n",
       "4918   skin rash joint pain skin peeling silver like...   \n",
       "4919   skin rash high fever blister red sore around ...   \n",
       "\n",
       "                                         Symptom_tokens  \\\n",
       "0     [itching, skin, rash, nodal, skin, eruptions, ...   \n",
       "1     [skin, rash, nodal, skin, eruptions, dischromi...   \n",
       "2     [itching, nodal, skin, eruptions, dischromic, ...   \n",
       "3            [itching, skin, rash, dischromic, patches]   \n",
       "4         [itching, skin, rash, nodal, skin, eruptions]   \n",
       "...                                                 ...   \n",
       "4915  [vomiting, headache, nausea, spinning, movemen...   \n",
       "4916  [skin, rash, pus, filled, pimples, blackheads,...   \n",
       "4917  [burning, micturition, bladder, discomfort, fo...   \n",
       "4918  [skin, rash, joint, pain, skin, peeling, silve...   \n",
       "4919  [skin, rash, high, fever, blister, red, sore, ...   \n",
       "\n",
       "                                         Symptom_vector  \n",
       "0     [0.2070357, 0.01904114, -0.0055758613, -0.1377...  \n",
       "1     [0.24659766, -0.0013919994, -0.010601004, -0.1...  \n",
       "2     [0.07035, 0.08717581, -0.028830606, -0.0361490...  \n",
       "3     [0.178511, -0.07981275, -0.05286075, -0.213686...  \n",
       "4     [0.30039498, 0.048597995, 0.050351497, -0.1581...  \n",
       "...                                                 ...  \n",
       "4915  [0.11061343, 0.17821288, 0.11190355, -0.191091...  \n",
       "4916  [0.097137995, -0.1723305, -0.039824996, -0.223...  \n",
       "4917  [0.05448175, 0.15117364, 0.23599534, -0.430794...  \n",
       "4918  [0.059871808, 0.053128403, -0.13207932, -0.143...  \n",
       "4919  [0.06586008, 0.101807125, 0.056729417, -0.2429...  \n",
       "\n",
       "[4920 rows x 4 columns]"
      ]
     },
     "execution_count": 6,
     "metadata": {},
     "output_type": "execute_result"
    }
   ],
   "source": [
    "df"
   ]
  },
  {
   "cell_type": "code",
   "execution_count": 7,
   "metadata": {},
   "outputs": [],
   "source": [
    "from sklearn.preprocessing import LabelEncoder\n",
    "\n",
    "X = np.array(df['Symptom_vector'].tolist())\n",
    "le = LabelEncoder()\n",
    "y = le.fit_transform(df['Disease']) "
   ]
  },
  {
   "cell_type": "code",
   "execution_count": 9,
   "metadata": {},
   "outputs": [],
   "source": [
    "from tensorflow.keras.models import Model\n",
    "from tensorflow.keras.layers import Input, Dense, Embedding\n",
    "from tensorflow.keras.utils import to_categorical"
   ]
  },
  {
   "cell_type": "code",
   "execution_count": 14,
   "metadata": {},
   "outputs": [
    {
     "data": {
      "text/plain": [
       "dtype('float32')"
      ]
     },
     "execution_count": 14,
     "metadata": {},
     "output_type": "execute_result"
    }
   ],
   "source": [
    "X.dtype"
   ]
  },
  {
   "cell_type": "code",
   "execution_count": 10,
   "metadata": {},
   "outputs": [
    {
     "name": "stdout",
     "output_type": "stream",
     "text": [
      "Epoch 1/10\n",
      "\u001b[1m154/154\u001b[0m \u001b[32m━━━━━━━━━━━━━━━━━━━━\u001b[0m\u001b[37m\u001b[0m \u001b[1m1s\u001b[0m 691us/step - accuracy: 0.5083 - loss: 2.6959\n",
      "Epoch 2/10\n",
      "\u001b[1m154/154\u001b[0m \u001b[32m━━━━━━━━━━━━━━━━━━━━\u001b[0m\u001b[37m\u001b[0m \u001b[1m0s\u001b[0m 639us/step - accuracy: 0.9976 - loss: 0.3015\n",
      "Epoch 3/10\n",
      "\u001b[1m154/154\u001b[0m \u001b[32m━━━━━━━━━━━━━━━━━━━━\u001b[0m\u001b[37m\u001b[0m \u001b[1m0s\u001b[0m 638us/step - accuracy: 0.9997 - loss: 0.0867\n",
      "Epoch 4/10\n",
      "\u001b[1m154/154\u001b[0m \u001b[32m━━━━━━━━━━━━━━━━━━━━\u001b[0m\u001b[37m\u001b[0m \u001b[1m0s\u001b[0m 627us/step - accuracy: 1.0000 - loss: 0.0400\n",
      "Epoch 5/10\n",
      "\u001b[1m154/154\u001b[0m \u001b[32m━━━━━━━━━━━━━━━━━━━━\u001b[0m\u001b[37m\u001b[0m \u001b[1m0s\u001b[0m 643us/step - accuracy: 1.0000 - loss: 0.0229\n",
      "Epoch 6/10\n",
      "\u001b[1m154/154\u001b[0m \u001b[32m━━━━━━━━━━━━━━━━━━━━\u001b[0m\u001b[37m\u001b[0m \u001b[1m0s\u001b[0m 631us/step - accuracy: 1.0000 - loss: 0.0141\n",
      "Epoch 7/10\n",
      "\u001b[1m154/154\u001b[0m \u001b[32m━━━━━━━━━━━━━━━━━━━━\u001b[0m\u001b[37m\u001b[0m \u001b[1m0s\u001b[0m 641us/step - accuracy: 1.0000 - loss: 0.0096\n",
      "Epoch 8/10\n",
      "\u001b[1m154/154\u001b[0m \u001b[32m━━━━━━━━━━━━━━━━━━━━\u001b[0m\u001b[37m\u001b[0m \u001b[1m0s\u001b[0m 623us/step - accuracy: 1.0000 - loss: 0.0074\n",
      "Epoch 9/10\n",
      "\u001b[1m154/154\u001b[0m \u001b[32m━━━━━━━━━━━━━━━━━━━━\u001b[0m\u001b[37m\u001b[0m \u001b[1m0s\u001b[0m 653us/step - accuracy: 1.0000 - loss: 0.0055\n",
      "Epoch 10/10\n",
      "\u001b[1m154/154\u001b[0m \u001b[32m━━━━━━━━━━━━━━━━━━━━\u001b[0m\u001b[37m\u001b[0m \u001b[1m0s\u001b[0m 614us/step - accuracy: 1.0000 - loss: 0.0044\n",
      "\u001b[1m154/154\u001b[0m \u001b[32m━━━━━━━━━━━━━━━━━━━━\u001b[0m\u001b[37m\u001b[0m \u001b[1m0s\u001b[0m 428us/step\n"
     ]
    }
   ],
   "source": [
    "y_one_hot = to_categorical(y)\n",
    "\n",
    "input_layer = Input(shape=(X.shape[1],))\n",
    "hidden_layer = Dense(128, activation='relu')(input_layer)  \n",
    "output_layer = Dense(len(le.classes_), activation='softmax')(hidden_layer) \n",
    "\n",
    "model = Model(inputs=input_layer, outputs=output_layer)\n",
    "model.compile(optimizer='adam', loss='categorical_crossentropy', metrics=['accuracy'])\n",
    "model.fit(X, y_one_hot, epochs=10, batch_size=32)\n",
    "\n",
    "disease_embedding_layer = Model(inputs=input_layer, outputs=hidden_layer)\n",
    "disease_embeddings = disease_embedding_layer.predict(X)"
   ]
  },
  {
   "cell_type": "code",
   "execution_count": 68,
   "metadata": {},
   "outputs": [
    {
     "data": {
      "text/plain": [
       "(300,)"
      ]
     },
     "execution_count": 68,
     "metadata": {},
     "output_type": "execute_result"
    }
   ],
   "source": [
    "text = 'Diarrhea fever'\n",
    "vector = get_symptom_vector(text.split(), embeddings, dim = 300)\n",
    "vector.shape"
   ]
  },
  {
   "cell_type": "code",
   "execution_count": 69,
   "metadata": {},
   "outputs": [
    {
     "data": {
      "text/plain": [
       "dtype('float32')"
      ]
     },
     "execution_count": 69,
     "metadata": {},
     "output_type": "execute_result"
    }
   ],
   "source": [
    "vector.dtype"
   ]
  },
  {
   "cell_type": "code",
   "execution_count": 70,
   "metadata": {},
   "outputs": [
    {
     "data": {
      "text/plain": [
       "(1, 300)"
      ]
     },
     "execution_count": 70,
     "metadata": {},
     "output_type": "execute_result"
    }
   ],
   "source": [
    "vector = np.expand_dims(vector, axis = 0)\n",
    "vector.shape"
   ]
  },
  {
   "cell_type": "code",
   "execution_count": 71,
   "metadata": {},
   "outputs": [
    {
     "name": "stdout",
     "output_type": "stream",
     "text": [
      "\u001b[1m1/1\u001b[0m \u001b[32m━━━━━━━━━━━━━━━━━━━━\u001b[0m\u001b[37m\u001b[0m \u001b[1m0s\u001b[0m 13ms/step\n"
     ]
    }
   ],
   "source": [
    "embedding = model.predict(vector)"
   ]
  },
  {
   "cell_type": "code",
   "execution_count": null,
   "metadata": {},
   "outputs": [],
   "source": []
  },
  {
   "cell_type": "code",
   "execution_count": 72,
   "metadata": {},
   "outputs": [],
   "source": [
    "pred = embedding.argmax()"
   ]
  },
  {
   "cell_type": "code",
   "execution_count": 73,
   "metadata": {},
   "outputs": [
    {
     "data": {
      "text/plain": [
       "6"
      ]
     },
     "execution_count": 73,
     "metadata": {},
     "output_type": "execute_result"
    }
   ],
   "source": [
    "pred"
   ]
  },
  {
   "cell_type": "code",
   "execution_count": 74,
   "metadata": {},
   "outputs": [
    {
     "data": {
      "text/plain": [
       "'Bronchial Asthma'"
      ]
     },
     "execution_count": 74,
     "metadata": {},
     "output_type": "execute_result"
    }
   ],
   "source": [
    "le.classes_[pred]"
   ]
  },
  {
   "cell_type": "code",
   "execution_count": null,
   "metadata": {},
   "outputs": [],
   "source": [
    "tf"
   ]
  }
 ],
 "metadata": {
  "kernelspec": {
   "display_name": "torch",
   "language": "python",
   "name": "python3"
  },
  "language_info": {
   "codemirror_mode": {
    "name": "ipython",
    "version": 3
   },
   "file_extension": ".py",
   "mimetype": "text/x-python",
   "name": "python",
   "nbconvert_exporter": "python",
   "pygments_lexer": "ipython3",
   "version": "3.12.7"
  }
 },
 "nbformat": 4,
 "nbformat_minor": 2
}
